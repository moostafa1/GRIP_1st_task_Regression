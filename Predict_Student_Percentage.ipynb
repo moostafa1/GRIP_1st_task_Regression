{
  "nbformat": 4,
  "nbformat_minor": 0,
  "metadata": {
    "colab": {
      "provenance": [],
      "collapsed_sections": []
    },
    "kernelspec": {
      "name": "python3",
      "display_name": "Python 3"
    },
    "language_info": {
      "name": "python"
    }
  },
  "cells": [
    {
      "cell_type": "markdown",
      "source": [
        "# Author: **Mostafa Noaman Ahmed**\n",
        "#### Copyright Mostafa Noaman Ahmed, 2022\n",
        "\n",
        "**Not for distribution.**"
      ],
      "metadata": {
        "id": "HCPloQ4ZLlqc"
      }
    },
    {
      "cell_type": "markdown",
      "source": [
        "# Enable accessing ***Google Drive*** through colab"
      ],
      "metadata": {
        "id": "XApfVp0NIh_A"
      }
    },
    {
      "cell_type": "code",
      "execution_count": null,
      "metadata": {
        "colab": {
          "base_uri": "https://localhost:8080/"
        },
        "id": "i54nHxair6CY",
        "outputId": "7b747618-1e7f-4327-c452-10f15c00002c"
      },
      "outputs": [
        {
          "output_type": "stream",
          "name": "stdout",
          "text": [
            "Mounted at /content/drive\n"
          ]
        }
      ],
      "source": [
        "from google.colab import drive\n",
        "drive.mount('/content/drive')"
      ]
    },
    {
      "cell_type": "markdown",
      "source": [
        "# Load Data and some information about it"
      ],
      "metadata": {
        "id": "kedWGIFMIyMo"
      }
    },
    {
      "cell_type": "code",
      "source": [
        "import pandas as pd\n",
        "\n",
        "data_file = r\"/content/drive/MyDrive/data.csv\"\n",
        "data = pd.read_csv(data_file)"
      ],
      "metadata": {
        "id": "iIRJd0wHwUiu"
      },
      "execution_count": null,
      "outputs": []
    },
    {
      "cell_type": "code",
      "source": [
        "print(data.columns)"
      ],
      "metadata": {
        "colab": {
          "base_uri": "https://localhost:8080/"
        },
        "id": "HvTtU4pNylWG",
        "outputId": "9cc24c74-4ca1-470b-faa4-cf0b9b2f623a"
      },
      "execution_count": null,
      "outputs": [
        {
          "output_type": "stream",
          "name": "stdout",
          "text": [
            "Index(['Hours', 'Scores'], dtype='object')\n"
          ]
        }
      ]
    },
    {
      "cell_type": "code",
      "source": [
        "print(data[\"Hours\"].value_counts()[data[\"Hours\"].value_counts()>1])"
      ],
      "metadata": {
        "colab": {
          "base_uri": "https://localhost:8080/"
        },
        "id": "nM-8FYZTyEgp",
        "outputId": "1d2a6340-7364-41d2-ec4c-b8872f46a1d9"
      },
      "execution_count": null,
      "outputs": [
        {
          "output_type": "stream",
          "name": "stdout",
          "text": [
            "2.5    2\n",
            "2.7    2\n",
            "Name: Hours, dtype: int64\n"
          ]
        }
      ]
    },
    {
      "cell_type": "code",
      "source": [
        "print(data[\"Scores\"].value_counts()[data[\"Scores\"].value_counts()>1])"
      ],
      "metadata": {
        "colab": {
          "base_uri": "https://localhost:8080/"
        },
        "id": "CBoWyR26yfmw",
        "outputId": "5ef5db8f-fd9c-42b4-ceb3-cdbe322a3080"
      },
      "execution_count": null,
      "outputs": [
        {
          "output_type": "stream",
          "name": "stdout",
          "text": [
            "30    3\n",
            "Name: Scores, dtype: int64\n"
          ]
        }
      ]
    },
    {
      "cell_type": "code",
      "source": [
        "print(data)"
      ],
      "metadata": {
        "colab": {
          "base_uri": "https://localhost:8080/"
        },
        "id": "mUx9FYcHytKU",
        "outputId": "9f10906e-7094-4d3c-ef31-f69e3604bd1c"
      },
      "execution_count": null,
      "outputs": [
        {
          "output_type": "stream",
          "name": "stdout",
          "text": [
            "    Hours  Scores\n",
            "0     2.5      21\n",
            "1     5.1      47\n",
            "2     3.2      27\n",
            "3     8.5      75\n",
            "4     3.5      30\n",
            "5     1.5      20\n",
            "6     9.2      88\n",
            "7     5.5      60\n",
            "8     8.3      81\n",
            "9     2.7      25\n",
            "10    7.7      85\n",
            "11    5.9      62\n",
            "12    4.5      41\n",
            "13    3.3      42\n",
            "14    1.1      17\n",
            "15    8.9      95\n",
            "16    2.5      30\n",
            "17    1.9      24\n",
            "18    6.1      67\n",
            "19    7.4      69\n",
            "20    2.7      30\n",
            "21    4.8      54\n",
            "22    3.8      35\n",
            "23    6.9      76\n",
            "24    7.8      86\n"
          ]
        }
      ]
    },
    {
      "cell_type": "markdown",
      "source": [
        "# Plot data before using ***Linear Regression*** model"
      ],
      "metadata": {
        "id": "u0NOdbfQI9UW"
      }
    },
    {
      "cell_type": "code",
      "source": [
        "import matplotlib.pyplot as plt\n",
        "\n",
        "data.plot(x=\"Hours\", y=\"Scores\", style=\"o\")\n",
        "plt.title('Hours vs Percentage')\n",
        "plt.xlabel(\"Hours Studied\")\n",
        "plt.ylabel(\"Percentage Scores\")\n",
        "plt.show()"
      ],
      "metadata": {
        "colab": {
          "base_uri": "https://localhost:8080/",
          "height": 295
        },
        "id": "Gd3t8yBfy67b",
        "outputId": "dcc34f43-3712-47ac-883c-f67e45c6e9f2"
      },
      "execution_count": null,
      "outputs": [
        {
          "output_type": "display_data",
          "data": {
            "text/plain": [
              "<Figure size 432x288 with 1 Axes>"
            ],
            "image/png": "[encoded data removed]"
          },
          "metadata": {
            "needs_background": "light"
          }
        }
      ]
    },
    {
      "cell_type": "markdown",
      "source": [
        "# Define the ***LinearRegression*** model and prepare our train and test labels"
      ],
      "metadata": {
        "id": "pVQMXrI0Ji9t"
      }
    },
    {
      "cell_type": "code",
      "source": [
        "from sklearn.linear_model import LinearRegression"
      ],
      "metadata": {
        "id": "j-glu59O0JiK"
      },
      "execution_count": null,
      "outputs": []
    },
    {
      "cell_type": "code",
      "source": [
        "X = data[[\"Hours\"]].to_numpy()\n",
        "y = data[[\"Scores\"]].to_numpy()"
      ],
      "metadata": {
        "id": "DC8zleFU3AuD"
      },
      "execution_count": null,
      "outputs": []
    },
    {
      "cell_type": "markdown",
      "source": [
        "# Split the dataset into train and test"
      ],
      "metadata": {
        "id": "M5awVqn7Jvh2"
      }
    },
    {
      "cell_type": "code",
      "source": [
        "from sklearn.model_selection import train_test_split  \n",
        "X_train, X_test, y_train, y_test = train_test_split(X, y, test_size=0.2, random_state=0) "
      ],
      "metadata": {
        "id": "A8Do_UUBAOls"
      },
      "execution_count": null,
      "outputs": []
    },
    {
      "cell_type": "markdown",
      "source": [
        "# Create object from the class ***LinearRegression*** and train our model using training data and their corresponding labels\n"
      ],
      "metadata": {
        "id": "4opBAEuiJ5Tm"
      }
    },
    {
      "cell_type": "code",
      "source": [
        "score_prediction_model = LinearRegression()"
      ],
      "metadata": {
        "id": "9mQjI8yz4awy"
      },
      "execution_count": null,
      "outputs": []
    },
    {
      "cell_type": "code",
      "source": [
        "score_prediction_model.fit(X_train, y_train)"
      ],
      "metadata": {
        "colab": {
          "base_uri": "https://localhost:8080/"
        },
        "id": "99yOMWlJ4twg",
        "outputId": "7bd2c040-3958-4d83-ff25-7b3758f5fa03"
      },
      "execution_count": null,
      "outputs": [
        {
          "output_type": "execute_result",
          "data": {
            "text/plain": [
              "LinearRegression()"
            ]
          },
          "metadata": {},
          "execution_count": 134
        }
      ]
    },
    {
      "cell_type": "markdown",
      "source": [
        "# Plot data after using ***Linear Regression*** model"
      ],
      "metadata": {
        "id": "Mz_8_m-UKTPt"
      }
    },
    {
      "cell_type": "code",
      "source": [
        "# Plotting the regression line\n",
        "line = score_prediction_model.coef_*X+score_prediction_model.intercept_\n",
        "\n",
        "# Plotting for the test data\n",
        "plt.scatter(X, y)\n",
        "plt.title('Hours vs Percentage After Regression')\n",
        "plt.xlabel(\"Hours Studied\")\n",
        "plt.ylabel(\"Percentage Scores\")\n",
        "plt.plot(X, line, color=\"red\");\n",
        "plt.show()"
      ],
      "metadata": {
        "colab": {
          "base_uri": "https://localhost:8080/",
          "height": 295
        },
        "id": "1whoDD1870Sv",
        "outputId": "ea20ee98-58c4-480f-cc52-b93cbeaa357c"
      },
      "execution_count": null,
      "outputs": [
        {
          "output_type": "display_data",
          "data": {
            "text/plain": [
              "<Figure size 432x288 with 1 Axes>"
            ],
            "image/png": "[encoded data removed]"
          },
          "metadata": {
            "needs_background": "light"
          }
        }
      ]
    },
    {
      "cell_type": "markdown",
      "source": [
        "# Predict the percentage on the test dataset"
      ],
      "metadata": {
        "id": "Xj-aKH0aKbql"
      }
    },
    {
      "cell_type": "code",
      "source": [
        "y_pred = score_prediction_model.predict(X_test)\n",
        "print(f\"Student predicted Percentage: {y_pred}%\")"
      ],
      "metadata": {
        "colab": {
          "base_uri": "https://localhost:8080/"
        },
        "id": "-ifrCfzr8QGw",
        "outputId": "efb511d3-9f05-4c5a-89aa-58befee97009"
      },
      "execution_count": null,
      "outputs": [
        {
          "output_type": "stream",
          "name": "stdout",
          "text": [
            "Student predicted Percentage: [[16.88414476]\n",
            " [33.73226078]\n",
            " [75.357018  ]\n",
            " [26.79480124]\n",
            " [60.49103328]]%\n"
          ]
        }
      ]
    },
    {
      "cell_type": "markdown",
      "source": [
        "# Compare the actual and predicted results in the table according to test dataset"
      ],
      "metadata": {
        "id": "jt309rBGKr0O"
      }
    },
    {
      "cell_type": "code",
      "source": [
        "actual = [x for lst in y_test for x in lst]\n",
        "pred = [x for lst in y_pred for x in lst]"
      ],
      "metadata": {
        "id": "MWXU8wQlDmgF"
      },
      "execution_count": null,
      "outputs": []
    },
    {
      "cell_type": "code",
      "source": [
        "loss_df = pd.DataFrame(list(zip(actual, pred)), columns=['Actual', 'Predicted'])            \n",
        "print(loss_df)"
      ],
      "metadata": {
        "colab": {
          "base_uri": "https://localhost:8080/"
        },
        "id": "rqkHVM1uAwJG",
        "outputId": "e4e7ee0d-684f-42f0-aa84-8fc880f5ec72"
      },
      "execution_count": null,
      "outputs": [
        {
          "output_type": "stream",
          "name": "stdout",
          "text": [
            "   Actual  Predicted\n",
            "0      20  16.884145\n",
            "1      27  33.732261\n",
            "2      69  75.357018\n",
            "3      30  26.794801\n",
            "4      62  60.491033\n"
          ]
        }
      ]
    },
    {
      "cell_type": "markdown",
      "source": [
        "# Enable user to predict as much times as he want"
      ],
      "metadata": {
        "id": "NlW8PqhIK7Av"
      }
    },
    {
      "cell_type": "code",
      "source": [
        "while True:\n",
        "    hrs = input(\"Please enter the number of Studied Hours per day: \")\n",
        "    predicted = score_prediction_model.predict([[hrs]])\n",
        "    if predicted[0][0] <= 100:\n",
        "        print(f\"Student predicted Percentage: {predicted[0][0]}%\")\n",
        "    else:\n",
        "        print(f\"Student predicted Percentage: 100%\")\n",
        "    \n",
        "    restart = input('\\nWould you like to restart? (y/n).\\n')\n",
        "    if restart.lower() != 'y':\n",
        "        break"
      ],
      "metadata": {
        "colab": {
          "base_uri": "https://localhost:8080/"
        },
        "id": "rYQirvng5cP4",
        "outputId": "ae84754f-3cd3-4b91-a590-40882a138f28"
      },
      "execution_count": null,
      "outputs": [
        {
          "name": "stdout",
          "output_type": "stream",
          "text": [
            "Please enter the number of Studied Hours per day: 12\n"
          ]
        },
        {
          "output_type": "stream",
          "name": "stderr",
          "text": [
            "/usr/local/lib/python3.7/dist-packages/sklearn/base.py:566: FutureWarning: Arrays of bytes/strings is being converted to decimal numbers if dtype='numeric'. This behavior is deprecated in 0.24 and will be removed in 1.1 (renaming of 0.26). Please convert your data to numeric values explicitly instead.\n",
            "  X = check_array(X, **check_params)\n"
          ]
        },
        {
          "name": "stdout",
          "output_type": "stream",
          "text": [
            "Student predicted Percentage: 100%\n",
            "\n",
            "Would you like to restart? (y/n).\n",
            "y\n",
            "Please enter the number of Studied Hours per day: 8\n"
          ]
        },
        {
          "output_type": "stream",
          "name": "stderr",
          "text": [
            "/usr/local/lib/python3.7/dist-packages/sklearn/base.py:566: FutureWarning: Arrays of bytes/strings is being converted to decimal numbers if dtype='numeric'. This behavior is deprecated in 0.24 and will be removed in 1.1 (renaming of 0.26). Please convert your data to numeric values explicitly instead.\n",
            "  X = check_array(X, **check_params)\n"
          ]
        },
        {
          "name": "stdout",
          "output_type": "stream",
          "text": [
            "Student predicted Percentage: 81.30341188657258%\n",
            "\n",
            "Would you like to restart? (y/n).\n",
            "y\n",
            "Please enter the number of Studied Hours per day: 9.25\n"
          ]
        },
        {
          "output_type": "stream",
          "name": "stderr",
          "text": [
            "/usr/local/lib/python3.7/dist-packages/sklearn/base.py:566: FutureWarning: Arrays of bytes/strings is being converted to decimal numbers if dtype='numeric'. This behavior is deprecated in 0.24 and will be removed in 1.1 (renaming of 0.26). Please convert your data to numeric values explicitly instead.\n",
            "  X = check_array(X, **check_params)\n"
          ]
        },
        {
          "name": "stdout",
          "output_type": "stream",
          "text": [
            "Student predicted Percentage: 93.69173248737539%\n",
            "\n",
            "Would you like to restart? (y/n).\n",
            "n\n"
          ]
        }
      ]
    },
    {
      "cell_type": "markdown",
      "source": [
        "# Calculate the ***MAE*** of the model"
      ],
      "metadata": {
        "id": "Ypo3XTZjLC6e"
      }
    },
    {
      "cell_type": "code",
      "source": [
        "from sklearn import metrics  \n",
        "print('Mean Absolute Error:', metrics.mean_absolute_error(y_test, y_pred)) "
      ],
      "metadata": {
        "colab": {
          "base_uri": "https://localhost:8080/"
        },
        "id": "yBnLuc7gAG_c",
        "outputId": "a13c38e3-5acc-41ba-a03a-2c60bad3af84"
      },
      "execution_count": null,
      "outputs": [
        {
          "output_type": "stream",
          "name": "stdout",
          "text": [
            "Mean Absolute Error: 4.183859899002982\n"
          ]
        }
      ]
    }
  ]
}